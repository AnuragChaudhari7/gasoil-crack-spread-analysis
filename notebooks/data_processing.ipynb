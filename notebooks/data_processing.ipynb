{
 "cells": [
  {
   "cell_type": "markdown",
   "id": "d48c7cdf",
   "metadata": {},
   "source": [
    "Now, we're going to import our cleaned data, and perform some calculations and store it again as processed data for future EDA"
   ]
  },
  {
   "cell_type": "code",
   "execution_count": 27,
   "id": "61afbc87",
   "metadata": {},
   "outputs": [],
   "source": [
    "import pandas as pd\n",
    "import os\n",
    "import matplotlib.pyplot as plt"
   ]
  },
  {
   "cell_type": "code",
   "execution_count": 28,
   "id": "758e4e7e",
   "metadata": {},
   "outputs": [],
   "source": [
    "crude_df = pd.read_csv(r'../data/processed/crude_futures.csv')\n",
    "gasoil_df = pd.read_csv(r'../data/processed/gasoil_futures.csv')"
   ]
  },
  {
   "cell_type": "code",
   "execution_count": 29,
   "id": "276191f1",
   "metadata": {},
   "outputs": [],
   "source": [
    "crude_df[\"Date\"] = pd.to_datetime(crude_df[\"Date\"])\n",
    "gasoil_df[\"Date\"] = pd.to_datetime(gasoil_df[\"Date\"])"
   ]
  },
  {
   "cell_type": "markdown",
   "id": "17175291",
   "metadata": {},
   "source": [
    "Now we want to compute the crackspread. Note that for this calculation, we need only the close daily prices. \n",
    "\n",
    "But before that we need to check that dates are aligned (thus dropping dates not present in both)"
   ]
  },
  {
   "cell_type": "markdown",
   "id": "5bad6b40",
   "metadata": {},
   "source": [
    "We will acheive this using 'merge'. The merging criterion is 'inner' since we want an intersection of dates. And we'd need to drop/only select Date and close of both"
   ]
  },
  {
   "cell_type": "code",
   "execution_count": 30,
   "id": "06d6100d",
   "metadata": {},
   "outputs": [],
   "source": [
    "crude_df = crude_df[['Date', 'Close']].rename(columns={'Close': 'close_crude', 'Date': 'date'})\n",
    "gasoil_df = gasoil_df[['Date', 'Close']].rename(columns={'Close': 'close_gasoil', 'Date':'date'})"
   ]
  },
  {
   "cell_type": "code",
   "execution_count": 31,
   "id": "0429152b",
   "metadata": {},
   "outputs": [
    {
     "data": {
      "text/html": [
       "<div>\n",
       "<style scoped>\n",
       "    .dataframe tbody tr th:only-of-type {\n",
       "        vertical-align: middle;\n",
       "    }\n",
       "\n",
       "    .dataframe tbody tr th {\n",
       "        vertical-align: top;\n",
       "    }\n",
       "\n",
       "    .dataframe thead th {\n",
       "        text-align: right;\n",
       "    }\n",
       "</style>\n",
       "<table border=\"1\" class=\"dataframe\">\n",
       "  <thead>\n",
       "    <tr style=\"text-align: right;\">\n",
       "      <th></th>\n",
       "      <th>date</th>\n",
       "      <th>close_crude</th>\n",
       "      <th>close_gasoil</th>\n",
       "    </tr>\n",
       "  </thead>\n",
       "  <tbody>\n",
       "    <tr>\n",
       "      <th>0</th>\n",
       "      <td>2009-05-08</td>\n",
       "      <td>58.14</td>\n",
       "      <td>482.00</td>\n",
       "    </tr>\n",
       "    <tr>\n",
       "      <th>1</th>\n",
       "      <td>2009-05-11</td>\n",
       "      <td>57.48</td>\n",
       "      <td>481.50</td>\n",
       "    </tr>\n",
       "    <tr>\n",
       "      <th>2</th>\n",
       "      <td>2009-05-12</td>\n",
       "      <td>57.94</td>\n",
       "      <td>483.25</td>\n",
       "    </tr>\n",
       "    <tr>\n",
       "      <th>3</th>\n",
       "      <td>2009-05-13</td>\n",
       "      <td>58.12</td>\n",
       "      <td>483.75</td>\n",
       "    </tr>\n",
       "    <tr>\n",
       "      <th>4</th>\n",
       "      <td>2009-05-14</td>\n",
       "      <td>58.59</td>\n",
       "      <td>472.75</td>\n",
       "    </tr>\n",
       "    <tr>\n",
       "      <th>...</th>\n",
       "      <td>...</td>\n",
       "      <td>...</td>\n",
       "      <td>...</td>\n",
       "    </tr>\n",
       "    <tr>\n",
       "      <th>4172</th>\n",
       "      <td>2025-09-02</td>\n",
       "      <td>69.14</td>\n",
       "      <td>703.50</td>\n",
       "    </tr>\n",
       "    <tr>\n",
       "      <th>4173</th>\n",
       "      <td>2025-09-03</td>\n",
       "      <td>67.60</td>\n",
       "      <td>707.25</td>\n",
       "    </tr>\n",
       "    <tr>\n",
       "      <th>4174</th>\n",
       "      <td>2025-09-04</td>\n",
       "      <td>66.99</td>\n",
       "      <td>698.75</td>\n",
       "    </tr>\n",
       "    <tr>\n",
       "      <th>4175</th>\n",
       "      <td>2025-09-05</td>\n",
       "      <td>65.50</td>\n",
       "      <td>676.75</td>\n",
       "    </tr>\n",
       "    <tr>\n",
       "      <th>4176</th>\n",
       "      <td>2025-09-08</td>\n",
       "      <td>66.02</td>\n",
       "      <td>688.25</td>\n",
       "    </tr>\n",
       "  </tbody>\n",
       "</table>\n",
       "<p>4177 rows × 3 columns</p>\n",
       "</div>"
      ],
      "text/plain": [
       "           date  close_crude  close_gasoil\n",
       "0    2009-05-08        58.14        482.00\n",
       "1    2009-05-11        57.48        481.50\n",
       "2    2009-05-12        57.94        483.25\n",
       "3    2009-05-13        58.12        483.75\n",
       "4    2009-05-14        58.59        472.75\n",
       "...         ...          ...           ...\n",
       "4172 2025-09-02        69.14        703.50\n",
       "4173 2025-09-03        67.60        707.25\n",
       "4174 2025-09-04        66.99        698.75\n",
       "4175 2025-09-05        65.50        676.75\n",
       "4176 2025-09-08        66.02        688.25\n",
       "\n",
       "[4177 rows x 3 columns]"
      ]
     },
     "execution_count": 31,
     "metadata": {},
     "output_type": "execute_result"
    }
   ],
   "source": [
    "crack_spread_df = crude_df.merge(gasoil_df, how='inner', on='date')\n",
    "crack_spread_df"
   ]
  },
  {
   "cell_type": "markdown",
   "id": "feff839b",
   "metadata": {},
   "source": [
    "Now that we have a merged, cleaned dataframe, let's perform the crack spread calculation and save it"
   ]
  },
  {
   "cell_type": "code",
   "execution_count": 32,
   "id": "b35513d5",
   "metadata": {},
   "outputs": [
    {
     "data": {
      "text/html": [
       "<div>\n",
       "<style scoped>\n",
       "    .dataframe tbody tr th:only-of-type {\n",
       "        vertical-align: middle;\n",
       "    }\n",
       "\n",
       "    .dataframe tbody tr th {\n",
       "        vertical-align: top;\n",
       "    }\n",
       "\n",
       "    .dataframe thead th {\n",
       "        text-align: right;\n",
       "    }\n",
       "</style>\n",
       "<table border=\"1\" class=\"dataframe\">\n",
       "  <thead>\n",
       "    <tr style=\"text-align: right;\">\n",
       "      <th></th>\n",
       "      <th>date</th>\n",
       "      <th>close_crude</th>\n",
       "      <th>close_gasoil</th>\n",
       "      <th>crack_spread</th>\n",
       "    </tr>\n",
       "  </thead>\n",
       "  <tbody>\n",
       "    <tr>\n",
       "      <th>0</th>\n",
       "      <td>2009-05-08</td>\n",
       "      <td>58.14</td>\n",
       "      <td>482.00</td>\n",
       "      <td>423.86</td>\n",
       "    </tr>\n",
       "    <tr>\n",
       "      <th>1</th>\n",
       "      <td>2009-05-11</td>\n",
       "      <td>57.48</td>\n",
       "      <td>481.50</td>\n",
       "      <td>424.02</td>\n",
       "    </tr>\n",
       "    <tr>\n",
       "      <th>2</th>\n",
       "      <td>2009-05-12</td>\n",
       "      <td>57.94</td>\n",
       "      <td>483.25</td>\n",
       "      <td>425.31</td>\n",
       "    </tr>\n",
       "    <tr>\n",
       "      <th>3</th>\n",
       "      <td>2009-05-13</td>\n",
       "      <td>58.12</td>\n",
       "      <td>483.75</td>\n",
       "      <td>425.63</td>\n",
       "    </tr>\n",
       "    <tr>\n",
       "      <th>4</th>\n",
       "      <td>2009-05-14</td>\n",
       "      <td>58.59</td>\n",
       "      <td>472.75</td>\n",
       "      <td>414.16</td>\n",
       "    </tr>\n",
       "    <tr>\n",
       "      <th>...</th>\n",
       "      <td>...</td>\n",
       "      <td>...</td>\n",
       "      <td>...</td>\n",
       "      <td>...</td>\n",
       "    </tr>\n",
       "    <tr>\n",
       "      <th>4172</th>\n",
       "      <td>2025-09-02</td>\n",
       "      <td>69.14</td>\n",
       "      <td>703.50</td>\n",
       "      <td>634.36</td>\n",
       "    </tr>\n",
       "    <tr>\n",
       "      <th>4173</th>\n",
       "      <td>2025-09-03</td>\n",
       "      <td>67.60</td>\n",
       "      <td>707.25</td>\n",
       "      <td>639.65</td>\n",
       "    </tr>\n",
       "    <tr>\n",
       "      <th>4174</th>\n",
       "      <td>2025-09-04</td>\n",
       "      <td>66.99</td>\n",
       "      <td>698.75</td>\n",
       "      <td>631.76</td>\n",
       "    </tr>\n",
       "    <tr>\n",
       "      <th>4175</th>\n",
       "      <td>2025-09-05</td>\n",
       "      <td>65.50</td>\n",
       "      <td>676.75</td>\n",
       "      <td>611.25</td>\n",
       "    </tr>\n",
       "    <tr>\n",
       "      <th>4176</th>\n",
       "      <td>2025-09-08</td>\n",
       "      <td>66.02</td>\n",
       "      <td>688.25</td>\n",
       "      <td>622.23</td>\n",
       "    </tr>\n",
       "  </tbody>\n",
       "</table>\n",
       "<p>4177 rows × 4 columns</p>\n",
       "</div>"
      ],
      "text/plain": [
       "           date  close_crude  close_gasoil  crack_spread\n",
       "0    2009-05-08        58.14        482.00        423.86\n",
       "1    2009-05-11        57.48        481.50        424.02\n",
       "2    2009-05-12        57.94        483.25        425.31\n",
       "3    2009-05-13        58.12        483.75        425.63\n",
       "4    2009-05-14        58.59        472.75        414.16\n",
       "...         ...          ...           ...           ...\n",
       "4172 2025-09-02        69.14        703.50        634.36\n",
       "4173 2025-09-03        67.60        707.25        639.65\n",
       "4174 2025-09-04        66.99        698.75        631.76\n",
       "4175 2025-09-05        65.50        676.75        611.25\n",
       "4176 2025-09-08        66.02        688.25        622.23\n",
       "\n",
       "[4177 rows x 4 columns]"
      ]
     },
     "execution_count": 32,
     "metadata": {},
     "output_type": "execute_result"
    }
   ],
   "source": [
    "crack_spread_df['crack_spread'] = crack_spread_df['close_gasoil'] - crack_spread_df['close_crude']\n",
    "crack_spread_df"
   ]
  },
  {
   "cell_type": "markdown",
   "id": "5eed0f6c",
   "metadata": {},
   "source": [
    "Now save the data"
   ]
  },
  {
   "cell_type": "code",
   "execution_count": 33,
   "id": "088c0b3b",
   "metadata": {},
   "outputs": [],
   "source": [
    "crack_spread_df.to_csv(r'../data/processed/crack_spread.csv')"
   ]
  }
 ],
 "metadata": {
  "language_info": {
   "name": "python"
  }
 },
 "nbformat": 4,
 "nbformat_minor": 5
}
