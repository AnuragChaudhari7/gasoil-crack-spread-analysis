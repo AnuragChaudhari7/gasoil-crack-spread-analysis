{
 "cells": [
  {
   "cell_type": "markdown",
   "id": "ce933053",
   "metadata": {},
   "source": [
    "Combine all CSV records for both crude oil and gas oil and join them together. Remove duplicates, clean them and store them as CSVs again"
   ]
  },
  {
   "cell_type": "code",
   "execution_count": 1,
   "id": "ea8b5b33",
   "metadata": {},
   "outputs": [],
   "source": [
    "import pandas as pd\n",
    "import os\n",
    "import matplotlib.pyplot as plt"
   ]
  },
  {
   "cell_type": "markdown",
   "id": "dd3bbe70",
   "metadata": {},
   "source": [
    "This code combines the different CSV files into one big dataframe for both crude oil and gas oil"
   ]
  },
  {
   "cell_type": "code",
   "execution_count": 2,
   "id": "e2f039fc",
   "metadata": {},
   "outputs": [
    {
     "name": "stdout",
     "output_type": "stream",
     "text": [
      "../data/raw/FUTURE_UK_IFEU_BRN00 (11).csv\n",
      "../data/raw/FUTURE_UK_IFEU_BRN00 (2).csv\n",
      "../data/raw/FUTURE_UK_IFEU_GAS00 (10).csv\n",
      "../data/raw/FUTURE_UK_IFEU_GAS00 (11).csv\n",
      "../data/raw/FUTURE_UK_IFEU_BRN00 (3).csv\n",
      "../data/raw/FUTURE_UK_IFEU_GAS00 (1).csv\n",
      "../data/raw/FUTURE_UK_IFEU_BRN00 (10).csv\n",
      "../data/raw/FUTURE_UK_IFEU_BRN00 (4).csv\n",
      "../data/raw/FUTURE_UK_IFEU_GAS00 (16).csv\n",
      "../data/raw/FUTURE_UK_IFEU_BRN00 (8).csv\n",
      "../data/raw/FUTURE_UK_IFEU_GAS00 (6).csv\n",
      "../data/raw/FUTURE_UK_IFEU_GAS00 (7).csv\n",
      "../data/raw/FUTURE_UK_IFEU_BRN00 (16).csv\n",
      "../data/raw/FUTURE_UK_IFEU_BRN00.csv\n",
      "../data/raw/FUTURE_UK_IFEU_BRN00 (9).csv\n",
      "../data/raw/FUTURE_UK_IFEU_GAS00.csv\n",
      "../data/raw/FUTURE_UK_IFEU_BRN00 (5).csv\n",
      "../data/raw/FUTURE_UK_IFEU_GAS00 (8).csv\n",
      "../data/raw/FUTURE_UK_IFEU_GAS00 (14).csv\n",
      "../data/raw/FUTURE_UK_IFEU_BRN00 (6).csv\n",
      "../data/raw/FUTURE_UK_IFEU_GAS00 (4).csv\n",
      "../data/raw/FUTURE_UK_IFEU_BRN00 (15).csv\n",
      "../data/raw/FUTURE_UK_IFEU_BRN00 (14).csv\n",
      "../data/raw/FUTURE_UK_IFEU_GAS00 (5).csv\n",
      "../data/raw/FUTURE_UK_IFEU_BRN00 (7).csv\n",
      "../data/raw/FUTURE_UK_IFEU_GAS00 (9).csv\n",
      "../data/raw/FUTURE_UK_IFEU_GAS00 (15).csv\n",
      "../data/raw/FUTURE_UK_IFEU_GAS00 (2).csv\n",
      "../data/raw/FUTURE_UK_IFEU_BRN00 (13).csv\n",
      "../data/raw/FUTURE_UK_IFEU_GAS00 (12).csv\n",
      "../data/raw/FUTURE_UK_IFEU_BRN00 (1).csv\n",
      "../data/raw/FUTURE_UK_IFEU_GAS00 (13).csv\n",
      "../data/raw/FUTURE_UK_IFEU_BRN00 (12).csv\n",
      "../data/raw/FUTURE_UK_IFEU_GAS00 (3).csv\n"
     ]
    }
   ],
   "source": [
    "directory = r\"../data/raw\"\n",
    "\n",
    "crude_files = []\n",
    "gasoil_files = []\n",
    "\n",
    "for name in os.listdir(directory):\n",
    "    filepath = os.path.join(directory, name)\n",
    "\n",
    "    if \"BRN00\" in name:\n",
    "        print(filepath)\n",
    "        df = pd.read_csv(filepath, thousands=',')\n",
    "        crude_files.append(df)\n",
    "\n",
    "    elif \"GAS00\" in name:\n",
    "        print(filepath)\n",
    "        df = pd.read_csv(filepath, thousands=',')\n",
    "        gasoil_files.append(df)\n"
   ]
  },
  {
   "cell_type": "markdown",
   "id": "2716927d",
   "metadata": {},
   "source": [
    "Now with the singular CSVs, we will clean and process them before storing them safely as CSV files. Processing will include\n",
    "- date column transformation\n",
    "- date column sorting\n",
    "- remove data points with no data\n",
    "- plotting data"
   ]
  },
  {
   "cell_type": "markdown",
   "id": "f46e0eb7",
   "metadata": {},
   "source": [
    "Crude Oil First"
   ]
  },
  {
   "cell_type": "code",
   "execution_count": 3,
   "id": "30f9cf61",
   "metadata": {},
   "outputs": [],
   "source": [
    "crude_df = pd.concat(crude_files, ignore_index=True)"
   ]
  },
  {
   "cell_type": "code",
   "execution_count": 4,
   "id": "23b43cf8",
   "metadata": {},
   "outputs": [
    {
     "name": "stdout",
     "output_type": "stream",
     "text": [
      "<class 'pandas.core.frame.DataFrame'>\n",
      "RangeIndex: 4191 entries, 0 to 4190\n",
      "Data columns (total 5 columns):\n",
      " #   Column  Non-Null Count  Dtype  \n",
      "---  ------  --------------  -----  \n",
      " 0   Date    4191 non-null   object \n",
      " 1   Open    4191 non-null   float64\n",
      " 2   High    4191 non-null   float64\n",
      " 3   Low     4191 non-null   float64\n",
      " 4   Close   4191 non-null   float64\n",
      "dtypes: float64(4), object(1)\n",
      "memory usage: 163.8+ KB\n"
     ]
    }
   ],
   "source": [
    "crude_df.info()"
   ]
  },
  {
   "cell_type": "code",
   "execution_count": 5,
   "id": "4a5177f5",
   "metadata": {},
   "outputs": [
    {
     "data": {
      "text/html": [
       "<div>\n",
       "<style scoped>\n",
       "    .dataframe tbody tr th:only-of-type {\n",
       "        vertical-align: middle;\n",
       "    }\n",
       "\n",
       "    .dataframe tbody tr th {\n",
       "        vertical-align: top;\n",
       "    }\n",
       "\n",
       "    .dataframe thead th {\n",
       "        text-align: right;\n",
       "    }\n",
       "</style>\n",
       "<table border=\"1\" class=\"dataframe\">\n",
       "  <thead>\n",
       "    <tr style=\"text-align: right;\">\n",
       "      <th></th>\n",
       "      <th>Date</th>\n",
       "      <th>Open</th>\n",
       "      <th>High</th>\n",
       "      <th>Low</th>\n",
       "      <th>Close</th>\n",
       "    </tr>\n",
       "  </thead>\n",
       "  <tbody>\n",
       "    <tr>\n",
       "      <th>0</th>\n",
       "      <td>09/09/2014</td>\n",
       "      <td>100.20</td>\n",
       "      <td>100.62</td>\n",
       "      <td>99.03</td>\n",
       "      <td>99.16</td>\n",
       "    </tr>\n",
       "    <tr>\n",
       "      <th>1</th>\n",
       "      <td>09/08/2014</td>\n",
       "      <td>100.80</td>\n",
       "      <td>101.00</td>\n",
       "      <td>99.36</td>\n",
       "      <td>100.20</td>\n",
       "    </tr>\n",
       "    <tr>\n",
       "      <th>2</th>\n",
       "      <td>09/05/2014</td>\n",
       "      <td>101.87</td>\n",
       "      <td>102.44</td>\n",
       "      <td>100.35</td>\n",
       "      <td>100.82</td>\n",
       "    </tr>\n",
       "    <tr>\n",
       "      <th>3</th>\n",
       "      <td>09/04/2014</td>\n",
       "      <td>102.41</td>\n",
       "      <td>102.95</td>\n",
       "      <td>101.70</td>\n",
       "      <td>101.83</td>\n",
       "    </tr>\n",
       "    <tr>\n",
       "      <th>4</th>\n",
       "      <td>09/03/2014</td>\n",
       "      <td>100.40</td>\n",
       "      <td>103.13</td>\n",
       "      <td>100.40</td>\n",
       "      <td>102.77</td>\n",
       "    </tr>\n",
       "  </tbody>\n",
       "</table>\n",
       "</div>"
      ],
      "text/plain": [
       "         Date    Open    High     Low   Close\n",
       "0  09/09/2014  100.20  100.62   99.03   99.16\n",
       "1  09/08/2014  100.80  101.00   99.36  100.20\n",
       "2  09/05/2014  101.87  102.44  100.35  100.82\n",
       "3  09/04/2014  102.41  102.95  101.70  101.83\n",
       "4  09/03/2014  100.40  103.13  100.40  102.77"
      ]
     },
     "execution_count": 5,
     "metadata": {},
     "output_type": "execute_result"
    }
   ],
   "source": [
    "crude_df.head()"
   ]
  },
  {
   "cell_type": "code",
   "execution_count": 6,
   "id": "ee24a0d2",
   "metadata": {},
   "outputs": [],
   "source": [
    "# Convert to datetime format\n",
    "crude_df['Date'] = pd.to_datetime(crude_df['Date'])"
   ]
  },
  {
   "cell_type": "code",
   "execution_count": 7,
   "id": "8e7ec531",
   "metadata": {},
   "outputs": [],
   "source": [
    "# Sort dates chronologically\n",
    "crude_df = crude_df.sort_values(by=['Date'], ignore_index=True)"
   ]
  },
  {
   "cell_type": "code",
   "execution_count": 8,
   "id": "ae15d201",
   "metadata": {},
   "outputs": [],
   "source": [
    "# Drop none columns\n",
    "crude_df = crude_df.dropna()"
   ]
  },
  {
   "cell_type": "code",
   "execution_count": 9,
   "id": "04bc6c75",
   "metadata": {},
   "outputs": [
    {
     "name": "stdout",
     "output_type": "stream",
     "text": [
      "        Date   Open   High    Low  Close\n",
      "0 2009-05-08  56.64  58.50  56.64  58.14\n",
      "1 2009-05-11  57.80  58.09  56.31  57.48\n",
      "2 2009-05-12  57.30  58.91  56.87  57.94\n",
      "3 2009-05-13  59.18  59.85  57.64  58.12\n",
      "4 2009-05-14  58.16  58.92  56.73  58.59\n",
      "5 2009-05-15  58.45  58.91  55.85  55.98\n",
      "6 2009-05-18  56.17  58.86  55.91  58.47\n",
      "7 2009-05-19  58.50  59.65  57.69  58.92\n",
      "8 2009-05-20  58.90  60.80  58.76  60.59\n",
      "9 2009-05-21  60.37  60.68  58.83  59.93\n",
      "           Date   Open   High    Low  Close\n",
      "4181 2025-08-26  68.14  68.16  66.60  66.70\n",
      "4182 2025-08-27  66.85  67.51  66.37  67.44\n",
      "4183 2025-08-28  67.15  68.06  66.81  67.98\n",
      "4184 2025-08-29  67.59  67.94  67.29  67.48\n",
      "4185 2025-09-01  67.42  68.36  67.12  68.15\n",
      "4186 2025-09-02  68.19  69.53  68.05  69.14\n",
      "4187 2025-09-03  69.10  69.24  67.36  67.60\n",
      "4188 2025-09-04  67.41  67.41  66.35  66.99\n",
      "4189 2025-09-05  66.82  67.05  65.07  65.50\n",
      "4190 2025-09-08  65.89  67.04  65.51  66.02\n"
     ]
    }
   ],
   "source": [
    "print(crude_df.head(10))\n",
    "print(crude_df.tail(10))"
   ]
  },
  {
   "cell_type": "markdown",
   "id": "7bedcaea",
   "metadata": {},
   "source": [
    "Plot the data"
   ]
  },
  {
   "cell_type": "code",
   "execution_count": 10,
   "id": "66a4b1db",
   "metadata": {},
   "outputs": [
    {
     "data": {
      "text/plain": [
       "[<matplotlib.lines.Line2D at 0x10b7c5f70>]"
      ]
     },
     "execution_count": 10,
     "metadata": {},
     "output_type": "execute_result"
    },
    {
     "data": {
      "image/png": "[encoded data removed]",
      "text/plain": [
       "<Figure size 640x480 with 1 Axes>"
      ]
     },
     "metadata": {},
     "output_type": "display_data"
    }
   ],
   "source": [
    "plt.plot(crude_df['Date'], crude_df['Close'])"
   ]
  },
  {
   "cell_type": "markdown",
   "id": "aaeed034",
   "metadata": {},
   "source": [
    "Now Gas Oil"
   ]
  },
  {
   "cell_type": "code",
   "execution_count": 11,
   "id": "7e265d0e",
   "metadata": {},
   "outputs": [],
   "source": [
    "gasoil_df = pd.concat(gasoil_files, ignore_index=True)"
   ]
  },
  {
   "cell_type": "code",
   "execution_count": 12,
   "id": "4c185240",
   "metadata": {},
   "outputs": [
    {
     "name": "stdout",
     "output_type": "stream",
     "text": [
      "<class 'pandas.core.frame.DataFrame'>\n",
      "RangeIndex: 4191 entries, 0 to 4190\n",
      "Data columns (total 5 columns):\n",
      " #   Column  Non-Null Count  Dtype  \n",
      "---  ------  --------------  -----  \n",
      " 0   Date    4191 non-null   object \n",
      " 1   Open    4191 non-null   float64\n",
      " 2   High    4191 non-null   float64\n",
      " 3   Low     4191 non-null   float64\n",
      " 4   Close   4191 non-null   float64\n",
      "dtypes: float64(4), object(1)\n",
      "memory usage: 163.8+ KB\n"
     ]
    }
   ],
   "source": [
    "gasoil_df.info()"
   ]
  },
  {
   "cell_type": "code",
   "execution_count": 13,
   "id": "5e992940",
   "metadata": {},
   "outputs": [
    {
     "data": {
      "text/html": [
       "<div>\n",
       "<style scoped>\n",
       "    .dataframe tbody tr th:only-of-type {\n",
       "        vertical-align: middle;\n",
       "    }\n",
       "\n",
       "    .dataframe tbody tr th {\n",
       "        vertical-align: top;\n",
       "    }\n",
       "\n",
       "    .dataframe thead th {\n",
       "        text-align: right;\n",
       "    }\n",
       "</style>\n",
       "<table border=\"1\" class=\"dataframe\">\n",
       "  <thead>\n",
       "    <tr style=\"text-align: right;\">\n",
       "      <th></th>\n",
       "      <th>Date</th>\n",
       "      <th>Open</th>\n",
       "      <th>High</th>\n",
       "      <th>Low</th>\n",
       "      <th>Close</th>\n",
       "    </tr>\n",
       "  </thead>\n",
       "  <tbody>\n",
       "    <tr>\n",
       "      <th>0</th>\n",
       "      <td>09/09/2015</td>\n",
       "      <td>486.75</td>\n",
       "      <td>489.50</td>\n",
       "      <td>469.00</td>\n",
       "      <td>477.00</td>\n",
       "    </tr>\n",
       "    <tr>\n",
       "      <th>1</th>\n",
       "      <td>09/08/2015</td>\n",
       "      <td>478.75</td>\n",
       "      <td>488.75</td>\n",
       "      <td>473.75</td>\n",
       "      <td>485.50</td>\n",
       "    </tr>\n",
       "    <tr>\n",
       "      <th>2</th>\n",
       "      <td>09/07/2015</td>\n",
       "      <td>486.00</td>\n",
       "      <td>486.00</td>\n",
       "      <td>472.25</td>\n",
       "      <td>474.50</td>\n",
       "    </tr>\n",
       "    <tr>\n",
       "      <th>3</th>\n",
       "      <td>09/04/2015</td>\n",
       "      <td>497.50</td>\n",
       "      <td>497.50</td>\n",
       "      <td>484.25</td>\n",
       "      <td>489.50</td>\n",
       "    </tr>\n",
       "    <tr>\n",
       "      <th>4</th>\n",
       "      <td>09/03/2015</td>\n",
       "      <td>486.25</td>\n",
       "      <td>502.00</td>\n",
       "      <td>481.00</td>\n",
       "      <td>495.25</td>\n",
       "    </tr>\n",
       "  </tbody>\n",
       "</table>\n",
       "</div>"
      ],
      "text/plain": [
       "         Date    Open    High     Low   Close\n",
       "0  09/09/2015  486.75  489.50  469.00  477.00\n",
       "1  09/08/2015  478.75  488.75  473.75  485.50\n",
       "2  09/07/2015  486.00  486.00  472.25  474.50\n",
       "3  09/04/2015  497.50  497.50  484.25  489.50\n",
       "4  09/03/2015  486.25  502.00  481.00  495.25"
      ]
     },
     "execution_count": 13,
     "metadata": {},
     "output_type": "execute_result"
    }
   ],
   "source": [
    "gasoil_df.head()"
   ]
  },
  {
   "cell_type": "code",
   "execution_count": 14,
   "id": "4dccac33",
   "metadata": {},
   "outputs": [],
   "source": [
    "gasoil_df['Date'] = pd.to_datetime(gasoil_df['Date'])"
   ]
  },
  {
   "cell_type": "code",
   "execution_count": 15,
   "id": "03ccb1e0",
   "metadata": {},
   "outputs": [],
   "source": [
    "gasoil_df = gasoil_df.sort_values(by=['Date'], ignore_index=True)"
   ]
  },
  {
   "cell_type": "code",
   "execution_count": 16,
   "id": "506176fd",
   "metadata": {},
   "outputs": [],
   "source": [
    "gasoil_df = gasoil_df.dropna()"
   ]
  },
  {
   "cell_type": "code",
   "execution_count": 17,
   "id": "942b933c",
   "metadata": {},
   "outputs": [
    {
     "name": "stdout",
     "output_type": "stream",
     "text": [
      "        Date    Open    High     Low   Close\n",
      "0 2009-05-08  481.50  491.75  480.75  482.00\n",
      "1 2009-05-11  483.50  491.00  476.75  481.50\n",
      "2 2009-05-12  480.50  495.75  480.00  483.25\n",
      "3 2009-05-13  489.00  493.00  475.50  483.75\n",
      "4 2009-05-14  476.75  483.00  469.00  472.75\n",
      "5 2009-05-15  480.00  482.00  455.50  467.50\n",
      "6 2009-05-18  457.50  477.00  457.00  466.25\n",
      "7 2009-05-19  473.00  482.00  466.00  469.75\n",
      "8 2009-05-20  477.50  489.00  474.50  481.50\n",
      "9 2009-05-21  483.50  487.75  473.00  476.75\n",
      "           Date    Open    High     Low   Close\n",
      "4181 2025-08-26  691.50  691.50  670.25  674.50\n",
      "4182 2025-08-27  673.00  679.25  668.00  674.50\n",
      "4183 2025-08-28  671.50  683.75  668.75  674.25\n",
      "4184 2025-08-29  677.25  680.25  671.25  675.25\n",
      "4185 2025-09-01  671.50  685.75  668.50  685.00\n",
      "4186 2025-09-02  685.25  708.50  685.25  703.50\n",
      "4187 2025-09-03  706.25  715.75  699.75  707.25\n",
      "4188 2025-09-04  700.00  702.00  687.00  698.75\n",
      "4189 2025-09-05  686.50  691.50  675.00  676.75\n",
      "4190 2025-09-08  680.25  697.50  677.50  688.25\n"
     ]
    }
   ],
   "source": [
    "print(gasoil_df.head(10))\n",
    "print(gasoil_df.tail(10))"
   ]
  },
  {
   "cell_type": "code",
   "execution_count": 18,
   "id": "e50e0d26",
   "metadata": {},
   "outputs": [
    {
     "data": {
      "text/plain": [
       "[<matplotlib.lines.Line2D at 0x10ba13560>]"
      ]
     },
     "execution_count": 18,
     "metadata": {},
     "output_type": "execute_result"
    },
    {
     "data": {
      "image/png": "[encoded data removed]",
      "text/plain": [
       "<Figure size 640x480 with 1 Axes>"
      ]
     },
     "metadata": {},
     "output_type": "display_data"
    }
   ],
   "source": [
    "plt.plot(gasoil_df['Date'], gasoil_df['Close'])"
   ]
  },
  {
   "cell_type": "markdown",
   "id": "c4d4fbba",
   "metadata": {},
   "source": [
    "Now save files"
   ]
  },
  {
   "cell_type": "code",
   "execution_count": 19,
   "id": "adf72eea",
   "metadata": {},
   "outputs": [],
   "source": [
    "directory = r\"../data/processed\"\n",
    "crude_df.to_csv(os.path.join(directory, \"crude_futures.csv\"))\n",
    "gasoil_df.to_csv(os.path.join(directory, \"gasoil_futures.csv\"))"
   ]
  }
 ],
 "metadata": {
  "kernelspec": {
   "display_name": ".venv",
   "language": "python",
   "name": "python3"
  },
  "language_info": {
   "codemirror_mode": {
    "name": "ipython",
    "version": 3
   },
   "file_extension": ".py",
   "mimetype": "text/x-python",
   "name": "python",
   "nbconvert_exporter": "python",
   "pygments_lexer": "ipython3",
   "version": "3.12.6"
  }
 },
 "nbformat": 4,
 "nbformat_minor": 5
}
